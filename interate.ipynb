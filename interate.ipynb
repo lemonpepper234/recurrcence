{
 "cells": [
  {
   "cell_type": "code",
   "execution_count": 21,
   "metadata": {},
   "outputs": [],
   "source": [
    "import numpy as np\n",
    "\n",
    "def iterate(current_loop, max_loop, iterate_range, current_path = [], result = None):\n",
    "\n",
    "    if result == None:\n",
    "        result = []\n",
    "\n",
    "    #* the interation count for the current interation\n",
    "    #* the interval between max_loop and current_loop narrows after each interation\n",
    "    index = len(iterate_range) - (max_loop - current_loop + 1)\n",
    "\n",
    "    #* otherwise in the first loop the index will be minus\n",
    "    assert index >= 0, \\\n",
    "        \"the length of iterate_loop mismatches the number of loop.\"\n",
    "\n",
    "    if current_loop > max_loop:\n",
    "        result.append(current_path)\n",
    "        return\n",
    "    \n",
    "    for i in range(iterate_range[index]):\n",
    "        iterate(current_loop + 1, max_loop, iterate_range, current_path + [i], result)\n",
    "\n",
    "    return result"
   ]
  },
  {
   "cell_type": "code",
   "execution_count": 20,
   "metadata": {},
   "outputs": [
    {
     "ename": "AssertionError",
     "evalue": "the length of iterate_loop mismatches the number of loop.",
     "output_type": "error",
     "traceback": [
      "\u001b[1;31m---------------------------------------------------------------------------\u001b[0m",
      "\u001b[1;31mAssertionError\u001b[0m                            Traceback (most recent call last)",
      "Cell \u001b[1;32mIn[20], line 5\u001b[0m\n\u001b[0;32m      2\u001b[0m max_loop \u001b[38;5;241m=\u001b[39m \u001b[38;5;241m6\u001b[39m\n\u001b[0;32m      3\u001b[0m iterate_range \u001b[38;5;241m=\u001b[39m [\u001b[38;5;241m4\u001b[39m, \u001b[38;5;241m3\u001b[39m, \u001b[38;5;241m2\u001b[39m]\n\u001b[1;32m----> 5\u001b[0m result \u001b[38;5;241m=\u001b[39m \u001b[43miterate\u001b[49m\u001b[43m(\u001b[49m\u001b[43mcurrent_loop\u001b[49m\u001b[43m,\u001b[49m\u001b[43m \u001b[49m\u001b[43mmax_loop\u001b[49m\u001b[43m,\u001b[49m\u001b[43m \u001b[49m\u001b[43miterate_range\u001b[49m\u001b[43m)\u001b[49m\n\u001b[0;32m      6\u001b[0m \u001b[38;5;28mprint\u001b[39m (result)\n",
      "Cell \u001b[1;32mIn[19], line 12\u001b[0m, in \u001b[0;36miterate\u001b[1;34m(current_loop, max_loop, iterate_range, current_path, result)\u001b[0m\n\u001b[0;32m      8\u001b[0m \u001b[38;5;66;03m#* the interation count for the current interation\u001b[39;00m\n\u001b[0;32m      9\u001b[0m \u001b[38;5;66;03m#* the interval between max_loop and current_loop narrows after each interation\u001b[39;00m\n\u001b[0;32m     10\u001b[0m index \u001b[38;5;241m=\u001b[39m \u001b[38;5;28mlen\u001b[39m(iterate_range) \u001b[38;5;241m-\u001b[39m (max_loop \u001b[38;5;241m-\u001b[39m current_loop \u001b[38;5;241m+\u001b[39m \u001b[38;5;241m1\u001b[39m)\n\u001b[1;32m---> 12\u001b[0m \u001b[38;5;28;01massert\u001b[39;00m index \u001b[38;5;241m>\u001b[39m\u001b[38;5;241m=\u001b[39m \u001b[38;5;241m0\u001b[39m, \\\n\u001b[0;32m     13\u001b[0m     \u001b[38;5;124m\"\u001b[39m\u001b[38;5;124mthe length of iterate_loop mismatches the number of loop.\u001b[39m\u001b[38;5;124m\"\u001b[39m\n\u001b[0;32m     15\u001b[0m \u001b[38;5;28;01mif\u001b[39;00m current_loop \u001b[38;5;241m>\u001b[39m max_loop:\n\u001b[0;32m     16\u001b[0m     result\u001b[38;5;241m.\u001b[39mappend(current_path)\n",
      "\u001b[1;31mAssertionError\u001b[0m: the length of iterate_loop mismatches the number of loop."
     ]
    }
   ],
   "source": [
    "current_loop = 3\n",
    "max_loop = 6\n",
    "iterate_range = [4, 3, 2]\n",
    "\n",
    "result = iterate(current_loop, max_loop, iterate_range)\n",
    "print (result)"
   ]
  }
 ],
 "metadata": {
  "kernelspec": {
   "display_name": "deeplearning",
   "language": "python",
   "name": "python3"
  },
  "language_info": {
   "codemirror_mode": {
    "name": "ipython",
    "version": 3
   },
   "file_extension": ".py",
   "mimetype": "text/x-python",
   "name": "python",
   "nbconvert_exporter": "python",
   "pygments_lexer": "ipython3",
   "version": "3.12.0"
  }
 },
 "nbformat": 4,
 "nbformat_minor": 2
}
