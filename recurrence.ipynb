{
 "cells": [
  {
   "cell_type": "markdown",
   "metadata": {},
   "source": [
    "**Notice:**\n",
    "\n",
    "Only the parameters of iterated function retains in the process of iteration."
   ]
  },
  {
   "cell_type": "code",
   "execution_count": 46,
   "metadata": {},
   "outputs": [],
   "source": [
    "import numpy as np\n",
    "import os,sys\n",
    "import copy\n",
    "\n",
    "def iterate(current_loop, max_loop, iterate_range, current_path = [], result = None):\n",
    "\n",
    "    if result == None:\n",
    "        result = []\n",
    "\n",
    "    #* the interation count for the current interation\n",
    "    #* the interval between max_loop and current_loop narrows after each interation\n",
    "    index = len(iterate_range) - (max_loop - current_loop + 1)\n",
    "\n",
    "    #* otherwise in the first loop the index will be minus\n",
    "    assert index >= 0, \\\n",
    "        \"the length of iterate_loop mismatches the number of loop.\"\n",
    "\n",
    "    if current_loop > max_loop:\n",
    "        result.append(current_path)\n",
    "        return\n",
    "    \n",
    "    for i in range(iterate_range[index]):\n",
    "        iterate(current_loop + 1, max_loop, iterate_range, current_path + [i], result)\n",
    "\n",
    "    return result"
   ]
  },
  {
   "cell_type": "markdown",
   "metadata": {},
   "source": []
  },
  {
   "cell_type": "code",
   "execution_count": 2,
   "metadata": {},
   "outputs": [
    {
     "name": "stdout",
     "output_type": "stream",
     "text": [
      "[0, 0, 0]\n",
      "[0, 0, 1]\n",
      "[0, 1, 0]\n",
      "[0, 1, 1]\n",
      "[0, 2, 0]\n",
      "[0, 2, 1]\n",
      "[1, 0, 0]\n",
      "[1, 0, 1]\n",
      "[1, 1, 0]\n",
      "[1, 1, 1]\n",
      "[1, 2, 0]\n",
      "[1, 2, 1]\n",
      "[2, 0, 0]\n",
      "[2, 0, 1]\n",
      "[2, 1, 0]\n",
      "[2, 1, 1]\n",
      "[2, 2, 0]\n",
      "[2, 2, 1]\n",
      "[3, 0, 0]\n",
      "[3, 0, 1]\n",
      "[3, 1, 0]\n",
      "[3, 1, 1]\n",
      "[3, 2, 0]\n",
      "[3, 2, 1]\n",
      "24\n"
     ]
    }
   ],
   "source": [
    "current_loop = 1\n",
    "max_loop = 3\n",
    "iterate_range = [4, 3, 2] \n",
    "\n",
    "result = iterate(current_loop, max_loop, iterate_range)\n",
    "for i in range(len(result)):\n",
    "    print (result[i])\n",
    "print (len(result))"
   ]
  },
  {
   "cell_type": "code",
   "execution_count": 3,
   "metadata": {},
   "outputs": [],
   "source": [
    "def iterate_list(current_loop, max_loop, input_list, current_list = [], result = None):\n",
    "\n",
    "    if result == None:\n",
    "        result = []\n",
    "\n",
    "    if current_loop > max_loop:\n",
    "        result.append(current_list)\n",
    "        return\n",
    "\n",
    "    index = len(input_list) - (max_loop - current_loop + 1)\n",
    "    assert index >= 0, \\\n",
    "        'length of input_list and the number of loops are not compatible!'\n",
    "\n",
    "    loop_range = len(input_list[index])\n",
    "\n",
    "    for i in range(loop_range):\n",
    "        if isinstance(input_list[index][i], list):\n",
    "            for j in range(len(input_list[index][i])):\n",
    "                iterate_list(current_loop + 1, max_loop, input_list, current_list + [input_list[index][i][j]], result)\n",
    "        elif input_list[index][i] == None:\n",
    "            iterate_list(current_loop + 1, max_loop, input_list, current_list, result)\n",
    "        else:\n",
    "            iterate_list(current_loop + 1, max_loop, input_list, current_list + [input_list[index][i]], result)\n",
    "\n",
    "    return result"
   ]
  },
  {
   "cell_type": "code",
   "execution_count": 4,
   "metadata": {},
   "outputs": [
    {
     "name": "stdout",
     "output_type": "stream",
     "text": [
      "['NMB', 1]\n",
      "['NMB', 1, 1]\n",
      "['NMB', 1, 2]\n",
      "['NMB', 1, 3]\n",
      "['NMB', 1, 1]\n",
      "['NMB', 2]\n",
      "['NMB', 2, 1]\n",
      "['NMB', 2, 2]\n",
      "['NMB', 2, 3]\n",
      "['NMB', 2, 1]\n",
      "['NMB', 3]\n",
      "['NMB', 3, 1]\n",
      "['NMB', 3, 2]\n",
      "['NMB', 3, 3]\n",
      "['NMB', 3, 1]\n"
     ]
    }
   ],
   "source": [
    "input_list = [[\"NMB\"],[1,2,3],[None,[1,2,3],1]]\n",
    "result_list = iterate_list(1, 3, input_list)\n",
    "for i in range(len(result_list)):\n",
    "    print (result_list[i])"
   ]
  },
  {
   "cell_type": "code",
   "execution_count": 63,
   "metadata": {},
   "outputs": [
    {
     "name": "stdout",
     "output_type": "stream",
     "text": [
      "[['NMB']]\n"
     ]
    }
   ],
   "source": [
    "input_list = [[\"NMB\"]]\n",
    "result_list = iterate_list(1, 1, input_list)\n",
    "\n",
    "print (result_list)"
   ]
  },
  {
   "cell_type": "code",
   "execution_count": 5,
   "metadata": {},
   "outputs": [],
   "source": [
    "def iterate_list_with_insert(current_loop, max_loop, input_list, insert_list, insert_index, current_list = [], result = None, insert_index_counter = 0):\n",
    "#* data structure:\n",
    "#* input_list = [[num, None, list, ...], [...], ...]\n",
    "#* insert_list = [[num, None, list, ...], [...], ...]\n",
    "#* insert_index = [index, index, ...]\n",
    "\n",
    "#* for insert_index, input_list[insert_index[i]] and insert_list[i] should have the same length\n",
    "\n",
    "    if result == None:\n",
    "        result = []\n",
    "\n",
    "    if current_loop > max_loop:\n",
    "        result.append(current_list)\n",
    "        return\n",
    "\n",
    "    index = len(input_list) - (max_loop - current_loop + 1)\n",
    "    assert index >= 0, \\\n",
    "        'length of input_list and the number of loops are not compatible!'\n",
    "\n",
    "    loop_range = len(input_list[index])\n",
    "\n",
    "    for i in range(loop_range):\n",
    "        #print (insert_index_counter)\n",
    "        if index == insert_index[insert_index_counter]:\n",
    "\n",
    "            #* in this case all insert_index_counter should plus 1\n",
    "            #* then classify with the type for element insert_list[insert_index_counter][j]\n",
    "            #* insert_list[insert_index_counter][j] or insert_list[insert_index_counter][j][k] should be added after input_list[index][i]\n",
    "\n",
    "            assert len(input_list[insert_index[insert_index_counter]]) == len(insert_list[insert_index_counter]), \\\n",
    "                \"the dimesion of input_list[insert_index[insert_index_counter]] and insert_list[insert_index_counter] should be the same!\"\n",
    "            \n",
    "            if isinstance(input_list[index][i], list):\n",
    "                for j in range(len(input_list[index][i])):\n",
    "                    if isinstance(insert_list[insert_index_counter][i], list):\n",
    "                        for k in range(len(insert_list[insert_index_counter][i])):\n",
    "                            iterate_list_with_insert(current_loop + 1, max_loop, input_list, insert_list, insert_index, current_list + [input_list[index][i][j]] + [insert_list[insert_index_counter][i][k]], result, insert_index_counter + 1)\n",
    "                    elif insert_list[insert_index_counter][i] == None:\n",
    "                        iterate_list_with_insert(current_loop + 1, max_loop, input_list, insert_list, insert_index, current_list + [input_list[index][i][j]], result, insert_index_counter + 1)\n",
    "                    else:\n",
    "                        iterate_list_with_insert(current_loop + 1, max_loop, input_list, insert_list, insert_index, current_list + [input_list[index][i][j]] + [insert_list[insert_index_counter][i]], result, insert_index_counter + 1)\n",
    "                    \n",
    "            elif input_list[index][i] == None:\n",
    "                if isinstance(insert_list[insert_index_counter][i], list):\n",
    "                    for k in range(len(insert_list[insert_index_counter][i])):\n",
    "                        iterate_list_with_insert(current_loop + 1, max_loop, input_list, insert_list, insert_index, current_list + [insert_list[insert_index_counter][i][k]], result, insert_index_counter + 1)\n",
    "                elif insert_list[insert_index_counter][i] == None:\n",
    "                    iterate_list_with_insert(current_loop + 1, max_loop, input_list, insert_list, insert_index, current_list, result, insert_index_counter + 1)\n",
    "                else:\n",
    "                    iterate_list_with_insert(current_loop + 1, max_loop, input_list, insert_list, insert_index, current_list + [insert_list[insert_index_counter][i]], result, insert_index_counter + 1)\n",
    "            else:\n",
    "                if isinstance(insert_list[insert_index_counter][i], list):\n",
    "                    for k in range(len(insert_list[insert_index_counter][i])):\n",
    "                        iterate_list_with_insert(current_loop + 1, max_loop, input_list, insert_list, insert_index, current_list + [input_list[index][i]] + [insert_list[insert_index_counter][i][k]], result, insert_index_counter + 1)\n",
    "                elif insert_list[insert_index_counter][i] == None:\n",
    "                    iterate_list_with_insert(current_loop + 1, max_loop, input_list, insert_list, insert_index, current_list + [input_list[index][i]], result, insert_index_counter + 1)\n",
    "                else:\n",
    "                    iterate_list_with_insert(current_loop + 1, max_loop, input_list, insert_list, insert_index, current_list + [input_list[index][i]] + [insert_list[insert_index_counter][i]], result, insert_index_counter + 1)\n",
    "\n",
    "        else:\n",
    "            #* in this case insert_index_counter should not change\n",
    "\n",
    "            if isinstance(input_list[index][i], list):\n",
    "                for j in range(len(input_list[index][i])):\n",
    "                    iterate_list_with_insert(current_loop + 1, max_loop, input_list, insert_list, insert_index, current_list + [input_list[index][i][j]], result, insert_index_counter)\n",
    "            elif input_list[index][i] == None:\n",
    "                iterate_list_with_insert(current_loop + 1, max_loop, input_list, insert_list, insert_index, current_list, result, insert_index_counter)\n",
    "            else:\n",
    "                iterate_list_with_insert(current_loop + 1, max_loop, input_list, insert_list, insert_index, current_list + [input_list[index][i]], result, insert_index_counter)\n",
    "\n",
    "    return result"
   ]
  },
  {
   "cell_type": "markdown",
   "metadata": {},
   "source": [
    "## Test case:"
   ]
  },
  {
   "cell_type": "code",
   "execution_count": 6,
   "metadata": {},
   "outputs": [
    {
     "name": "stdout",
     "output_type": "stream",
     "text": [
      "['input21', 'input31', 'insert21']\n",
      "['input21', 'input32', 'insert22']\n",
      "['input21', 'input33', 'insert231']\n",
      "['input21', 'input33', 'insert232']\n",
      "['input22', 'insert12', 'input31', 'insert21']\n",
      "['input22', 'insert12', 'input32', 'insert22']\n",
      "['input22', 'insert12', 'input33', 'insert231']\n",
      "['input22', 'insert12', 'input33', 'insert232']\n",
      "['input231', 'insert131', 'input31', 'insert21']\n",
      "['input231', 'insert131', 'input32', 'insert22']\n",
      "['input231', 'insert131', 'input33', 'insert231']\n",
      "['input231', 'insert131', 'input33', 'insert232']\n",
      "['input231', 'insert132', 'input31', 'insert21']\n",
      "['input231', 'insert132', 'input32', 'insert22']\n",
      "['input231', 'insert132', 'input33', 'insert231']\n",
      "['input231', 'insert132', 'input33', 'insert232']\n",
      "['input232', 'insert131', 'input31', 'insert21']\n",
      "['input232', 'insert131', 'input32', 'insert22']\n",
      "['input232', 'insert131', 'input33', 'insert231']\n",
      "['input232', 'insert131', 'input33', 'insert232']\n",
      "['input232', 'insert132', 'input31', 'insert21']\n",
      "['input232', 'insert132', 'input32', 'insert22']\n",
      "['input232', 'insert132', 'input33', 'insert231']\n",
      "['input232', 'insert132', 'input33', 'insert232']\n"
     ]
    }
   ],
   "source": [
    "input_list = [['input11'], ['input21', 'input22', ['input231', 'input232']], ['input31', 'input32', 'input33']]\n",
    "insert_list = [[None, 'insert12', ['insert131', 'insert132']], ['insert21', 'insert22', ['insert231', 'insert232']]]\n",
    "insert_index = [1, 2]\n",
    "\n",
    "result_list = iterate_list_with_insert(1, 2, input_list, insert_list, insert_index)\n",
    "\n",
    "for i in range(len(result_list)):\n",
    "    print (result_list[i])\n"
   ]
  },
  {
   "cell_type": "markdown",
   "metadata": {},
   "source": [
    "## Some examples for Multiwfn:\n",
    "\n",
    "Electron-hole visualization:"
   ]
  },
  {
   "cell_type": "code",
   "execution_count": 45,
   "metadata": {},
   "outputs": [],
   "source": [
    "def insert_into_input_list_error(input_list, insert_index, insert_list):\n",
    "\n",
    "    output_list = []\n",
    "    output_list_for_list = []\n",
    "    temp_list = []\n",
    "    current_list = []\n",
    "    \n",
    "    #* for the permutation and combination of the input_list, each first level list could could contribute one element to the final list\n",
    "    #* the the number of the recurrsion layers equal to the length of the fianl list\n",
    "    #* and each element in the final list corresponds to one recurrsion layer\n",
    "    for inlist in input_list:\n",
    "        counter = 0\n",
    "        temp_list = inlist.copy()\n",
    "        for i in range(len(insert_index)):\n",
    "            if isinstance(insert_list[i], list):\n",
    "\n",
    "                current_list = temp_list.copy()\n",
    "                for j in range(len(insert_list[i])):\n",
    "                    temp_list.insert(insert_index[i] + 1 + counter, insert_list[i][j])\n",
    "                    output_list.append(temp_list)\n",
    "                    temp_list = current_list.copy()\n",
    "                    #! Here the pointer of temp_list is changed, so only the first loop and the lists appended in the else stament share the same pointer\n",
    "                counter += 1\n",
    "            elif insert_list[i] == None:\n",
    "                pass\n",
    "            else:\n",
    "                temp_list.insert(insert_index[i] + 1 + counter, insert_list[i])\n",
    "                output_list.append(temp_list)\n",
    "                counter += 1\n",
    "        \n",
    "    \n",
    "    return output_list"
   ]
  },
  {
   "cell_type": "code",
   "execution_count": 114,
   "metadata": {},
   "outputs": [],
   "source": [
    "def insert_into_input_list(input_list, insert_index, insert_list):\n",
    "    \n",
    "    output_list = []\n",
    "    temp_list = []\n",
    "    current_list = []\n",
    "    temp1_list = []\n",
    "    #* input_list is a two layer list\n",
    "\n",
    "    dim1 = len(input_list)\n",
    "\n",
    "    assert len(input_list[0]) >= len(insert_index), \\\n",
    "        \"The maximum index of insert_index should be smaller than the length of input_list.\"\n",
    "    \n",
    "    assert len(insert_index) == len(insert_list), \\\n",
    "        \"The length of insert_index and insert_list should be the same.\"\n",
    "\n",
    "    for list_element in input_list:\n",
    "        temp_list = []\n",
    "        counter = 0\n",
    "        temp_list.append(copy.deepcopy(list_element))\n",
    "        #* For every list_element in input_list, create a temp_list: temp_list = [] , then deepcopy\n",
    "        #* Here temp_list is a two layer list: [list_element]\n",
    "        #! be careful to use append, since the history result will still remians in the list\n",
    "\n",
    "        for i in range(len(insert_index)):\n",
    "            if isinstance(insert_list[i], list):\n",
    "                current_list = []\n",
    "                current_list = copy.deepcopy(temp_list)\n",
    "                temp_list = []\n",
    "\n",
    "                #* a copy of the temp_list that have not came into the for loop\n",
    "                #* then delete temp_list, to creaete len(insert_list[i]) copies of current_list\n",
    "\n",
    "                for j in range(len(insert_list[i])):\n",
    "                    temp1_list = copy.deepcopy(current_list)\n",
    "                    for i_temp in range(len(current_list)):\n",
    "                        temp1_list[i_temp].insert(insert_index[i] + counter + 1, insert_list[i][j])\n",
    "                    temp_list.append(copy.deepcopy(temp1_list))\n",
    "                    #* in the loop of append, the layers should remains unchanged\n",
    "                    #* or the elements will not share the same number of layer\n",
    "\n",
    "                #*before: temp_list = [[[A1],[A2]],[[B1],[B2]],[[C1],[C2]]]\n",
    "                temp_list = [sublist[i] for sublist in temp_list for i in range(len(sublist))]\n",
    "                #* to keep the number of layers be same\n",
    "                counter += 1\n",
    "\n",
    "            elif insert_list[i] == None:\n",
    "                pass\n",
    "            else:\n",
    "                for i_temp in range(len(temp_list)):\n",
    "                    temp_list[i_temp].insert(insert_index[i] + counter + 1, insert_list[i])\n",
    "                counter += 1\n",
    "\n",
    "        output_list.append(copy.deepcopy(temp_list))\n",
    "    #! the dimension change must be written out of the loop\n",
    "    #* Here, out of loop, temp_list is a three layer list: [[[A1],[A2]],[[B1],[B2]],[[C1],[C2]]]\n",
    "    output_list = [sublist[i] for sublist in output_list for i in range(len(sublist))]\n",
    "    return output_list"
   ]
  },
  {
   "cell_type": "markdown",
   "metadata": {},
   "source": [
    "## .insert() and .append() is in-place operation\n",
    "\n",
    "## Shallow copy and deep copy:\n",
    "\n",
    "- Shallow copy: only copy the value of the elements, or the pointer itself, not the list that the pointer points to.\n",
    "\n",
    "- Deep copy: copy the value of the elements, and the list that the pointer points to."
   ]
  },
  {
   "cell_type": "code",
   "execution_count": 91,
   "metadata": {},
   "outputs": [
    {
     "name": "stdout",
     "output_type": "stream",
     "text": [
      "['Au8Pt5tddft.fch', 18, 1, 'AU8PT5TDDFT.LOG', 13, 1, 3, 10, 11, 12, 13, 14, 15, 16]\n",
      "['Au8Pt5tddft.fch', 18, 1, 'AU8PT5TDDFT.LOG', 14, 1, 3, 10, 11, 12, 13, 14, 15, 16]\n",
      "['Au8Pt5tddft.fch', 18, 1, 'AU8PT5TDDFT.LOG', 15, 1, 3, 10, 11, 12, 13, 14, 15, 16]\n",
      "-----------------------------------\n",
      "['Au8Pt5tddft.fch', 18, 1, 'AU8PT5TDDFT.LOG', 13, 1, 3, 10, 1, 11, 1, 12, 2, 13, 14, 1, 15, 16]\n",
      "['Au8Pt5tddft.fch', 18, 1, 'AU8PT5TDDFT.LOG', 13, 1, 3, 10, 1, 11, 1, 12, 2, 13, 14, 2, 15, 16]\n",
      "['Au8Pt5tddft.fch', 18, 1, 'AU8PT5TDDFT.LOG', 13, 1, 3, 10, 1, 11, 1, 12, 2, 13, 14, 3, 15, 16]\n",
      "['Au8Pt5tddft.fch', 18, 1, 'AU8PT5TDDFT.LOG', 13, 1, 3, 10, 1, 11, 1, 12, 2, 13, 14, 4, 15, 16]\n",
      "['Au8Pt5tddft.fch', 18, 1, 'AU8PT5TDDFT.LOG', 14, 1, 3, 10, 1, 11, 1, 12, 2, 13, 14, 1, 15, 16]\n",
      "['Au8Pt5tddft.fch', 18, 1, 'AU8PT5TDDFT.LOG', 14, 1, 3, 10, 1, 11, 1, 12, 2, 13, 14, 2, 15, 16]\n",
      "['Au8Pt5tddft.fch', 18, 1, 'AU8PT5TDDFT.LOG', 14, 1, 3, 10, 1, 11, 1, 12, 2, 13, 14, 3, 15, 16]\n",
      "['Au8Pt5tddft.fch', 18, 1, 'AU8PT5TDDFT.LOG', 14, 1, 3, 10, 1, 11, 1, 12, 2, 13, 14, 4, 15, 16]\n",
      "['Au8Pt5tddft.fch', 18, 1, 'AU8PT5TDDFT.LOG', 15, 1, 3, 10, 1, 11, 1, 12, 2, 13, 14, 1, 15, 16]\n",
      "['Au8Pt5tddft.fch', 18, 1, 'AU8PT5TDDFT.LOG', 15, 1, 3, 10, 1, 11, 1, 12, 2, 13, 14, 2, 15, 16]\n",
      "['Au8Pt5tddft.fch', 18, 1, 'AU8PT5TDDFT.LOG', 15, 1, 3, 10, 1, 11, 1, 12, 2, 13, 14, 3, 15, 16]\n",
      "['Au8Pt5tddft.fch', 18, 1, 'AU8PT5TDDFT.LOG', 15, 1, 3, 10, 1, 11, 1, 12, 2, 13, 14, 4, 15, 16]\n"
     ]
    }
   ],
   "source": [
    "fch_filename = 'Au8Pt5tddft.fch'\n",
    "LOG_filename = 'AU8PT5TDDFT.LOG'\n",
    "excited_states_list = [13, 14, 15]\n",
    "input_list = [[fch_filename], [18], [1], [LOG_filename], [excited_states_list], [1], [3], \\\n",
    "    [10], [11], [12], [13], [14], [15], [16]]\n",
    "insert_list = [1, 1, 2, [1, 2, 3, 4]]\n",
    "insert_index = [7, 8, 9, 11]\n",
    "Multiwfn_input_list = iterate_list(1, len(input_list), input_list)\n",
    "\n",
    "\n",
    "\n",
    "Multiwfn_output_list = insert_into_input_list(Multiwfn_input_list, insert_index, insert_list)\n",
    "\n",
    "for i in range(len(Multiwfn_input_list)):\n",
    "    print (Multiwfn_input_list[i])\n",
    "\n",
    "print ('-----------------------------------')\n",
    "\n",
    "for i in range(len(Multiwfn_output_list)):\n",
    "    print (Multiwfn_output_list[i])\n"
   ]
  },
  {
   "cell_type": "code",
   "execution_count": 115,
   "metadata": {},
   "outputs": [
    {
     "name": "stdout",
     "output_type": "stream",
     "text": [
      "[['input', 'input21', 'input3', 'input4', 'input5'], ['input', 'input22', 'input3', 'input4', 'input5']]\n",
      "-----------------------------------\n",
      "['input', 'input21', 'input3', 'input4', 'input5']\n",
      "['input', 'input22', 'input3', 'input4', 'input5']\n",
      "-----------------------------------\n",
      "['input', 'insert1', 'input21', 'insert21', 'input3', 'insert3', 'input4', 'insert41', 'input5']\n",
      "['input', 'insert1', 'input21', 'insert22', 'input3', 'insert3', 'input4', 'insert41', 'input5']\n",
      "['input', 'insert1', 'input21', 'insert23', 'input3', 'insert3', 'input4', 'insert41', 'input5']\n",
      "['input', 'insert1', 'input21', 'insert21', 'input3', 'insert3', 'input4', 'insert42', 'input5']\n",
      "['input', 'insert1', 'input21', 'insert22', 'input3', 'insert3', 'input4', 'insert42', 'input5']\n",
      "['input', 'insert1', 'input21', 'insert23', 'input3', 'insert3', 'input4', 'insert42', 'input5']\n",
      "['input', 'insert1', 'input22', 'insert21', 'input3', 'insert3', 'input4', 'insert41', 'input5']\n",
      "['input', 'insert1', 'input22', 'insert22', 'input3', 'insert3', 'input4', 'insert41', 'input5']\n",
      "['input', 'insert1', 'input22', 'insert23', 'input3', 'insert3', 'input4', 'insert41', 'input5']\n",
      "['input', 'insert1', 'input22', 'insert21', 'input3', 'insert3', 'input4', 'insert42', 'input5']\n",
      "['input', 'insert1', 'input22', 'insert22', 'input3', 'insert3', 'input4', 'insert42', 'input5']\n",
      "['input', 'insert1', 'input22', 'insert23', 'input3', 'insert3', 'input4', 'insert42', 'input5']\n"
     ]
    }
   ],
   "source": [
    "aaaa = [['input'], ['input21', 'input22'], ['input3'], ['input4'], ['input5']]\n",
    "aaaaa = iterate_list(1, len(aaaa), aaaa)\n",
    "\n",
    "print (aaaaa)\n",
    "\n",
    "print ('-----------------------------------')\n",
    "\n",
    "for i in range(len(aaaaa)):\n",
    "    print (aaaaa[i])\n",
    "\n",
    "bbbb = ['insert1', ['insert21', 'insert22', 'insert23'], 'insert3',['insert41', 'insert42']]\n",
    "bbbbbb = [0, 1, 2, 3]\n",
    "\n",
    "ccccc = insert_into_input_list(aaaaa, bbbbbb, bbbb)\n",
    "\n",
    "print ('-----------------------------------')\n",
    "\n",
    "for i in range(len(ccccc)):\n",
    "    print (ccccc[i])\n"
   ]
  },
  {
   "cell_type": "code",
   "execution_count": null,
   "metadata": {},
   "outputs": [
    {
     "name": "stdout",
     "output_type": "stream",
     "text": [
      "<class 'list'>\n",
      "['eh_command.py', 'README.md', 'recurrence.ipynb', 'temp.txt']\n"
     ]
    }
   ],
   "source": [
    "all_list = os.listdir(os.getcwd())\n",
    "\n",
    "all_files_list = [file for file in all_list if os.path.isfile(file)]\n",
    "\n",
    "\n",
    "\n",
    "print (type(all_files_list))\n",
    "print (all_files_list)"
   ]
  },
  {
   "cell_type": "code",
   "execution_count": null,
   "metadata": {},
   "outputs": [
    {
     "name": "stdout",
     "output_type": "stream",
     "text": [
      "['naotan?']\n",
      "nmb\n"
     ]
    }
   ],
   "source": [
    "list111 = ['nmb', 'sbbb', 'caonima']\n",
    "list222 = ['nmb', 'sbbb', 'caonima', 'naotan?']\n",
    "\n",
    "print (list(set(list222) - set(list111)))\n",
    "print (list111[0])"
   ]
  },
  {
   "cell_type": "code",
   "execution_count": null,
   "metadata": {},
   "outputs": [],
   "source": [
    "for i in range(len(result_list)):\n",
    "    with open('temp.txt', 'w') as temp:\n",
    "        for j in range(len(result_list[i])):\n",
    "            temp.write(str(result_list[i][j]) + \"\\n\")\n",
    "    "
   ]
  }
 ],
 "metadata": {
  "kernelspec": {
   "display_name": "deeplearning",
   "language": "python",
   "name": "python3"
  },
  "language_info": {
   "codemirror_mode": {
    "name": "ipython",
    "version": 3
   },
   "file_extension": ".py",
   "mimetype": "text/x-python",
   "name": "python",
   "nbconvert_exporter": "python",
   "pygments_lexer": "ipython3",
   "version": "3.12.0"
  }
 },
 "nbformat": 4,
 "nbformat_minor": 2
}
