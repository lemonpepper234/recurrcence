{
 "cells": [
  {
   "cell_type": "markdown",
   "metadata": {},
   "source": [
    "**Notice:**\n",
    "\n",
    "Only the parameters of iterated function retains in the process of iteration."
   ]
  },
  {
   "cell_type": "code",
   "execution_count": 9,
   "metadata": {},
   "outputs": [],
   "source": [
    "import numpy as np\n",
    "import os,sys\n",
    "\n",
    "def iterate(current_loop, max_loop, iterate_range, current_path = [], result = None):\n",
    "\n",
    "    if result == None:\n",
    "        result = []\n",
    "\n",
    "    #* the interation count for the current interation\n",
    "    #* the interval between max_loop and current_loop narrows after each interation\n",
    "    index = len(iterate_range) - (max_loop - current_loop + 1)\n",
    "\n",
    "    #* otherwise in the first loop the index will be minus\n",
    "    assert index >= 0, \\\n",
    "        \"the length of iterate_loop mismatches the number of loop.\"\n",
    "\n",
    "    if current_loop > max_loop:\n",
    "        result.append(current_path)\n",
    "        return\n",
    "    \n",
    "    for i in range(iterate_range[index]):\n",
    "        iterate(current_loop + 1, max_loop, iterate_range, current_path + [i], result)\n",
    "\n",
    "    return result"
   ]
  },
  {
   "cell_type": "markdown",
   "metadata": {},
   "source": []
  },
  {
   "cell_type": "code",
   "execution_count": 2,
   "metadata": {},
   "outputs": [
    {
     "name": "stdout",
     "output_type": "stream",
     "text": [
      "[0, 0, 0]\n",
      "[0, 0, 1]\n",
      "[0, 1, 0]\n",
      "[0, 1, 1]\n",
      "[0, 2, 0]\n",
      "[0, 2, 1]\n",
      "[1, 0, 0]\n",
      "[1, 0, 1]\n",
      "[1, 1, 0]\n",
      "[1, 1, 1]\n",
      "[1, 2, 0]\n",
      "[1, 2, 1]\n",
      "[2, 0, 0]\n",
      "[2, 0, 1]\n",
      "[2, 1, 0]\n",
      "[2, 1, 1]\n",
      "[2, 2, 0]\n",
      "[2, 2, 1]\n",
      "[3, 0, 0]\n",
      "[3, 0, 1]\n",
      "[3, 1, 0]\n",
      "[3, 1, 1]\n",
      "[3, 2, 0]\n",
      "[3, 2, 1]\n",
      "24\n"
     ]
    }
   ],
   "source": [
    "current_loop = 1\n",
    "max_loop = 3\n",
    "iterate_range = [4, 3, 2] \n",
    "\n",
    "result = iterate(current_loop, max_loop, iterate_range)\n",
    "for i in range(len(result)):\n",
    "    print (result[i])\n",
    "print (len(result))"
   ]
  },
  {
   "cell_type": "code",
   "execution_count": 3,
   "metadata": {},
   "outputs": [],
   "source": [
    "def iterate_list(current_loop, max_loop, input_list, current_list = [], result = None):\n",
    "\n",
    "    if result == None:\n",
    "        result = []\n",
    "\n",
    "    if current_loop > max_loop:\n",
    "        result.append(current_list)\n",
    "        return\n",
    "\n",
    "    index = len(input_list) - (max_loop - current_loop + 1)\n",
    "    assert index >= 0, \\\n",
    "        'length of input_list and the number of loops are not compatible!'\n",
    "\n",
    "    loop_range = len(input_list[index])\n",
    "\n",
    "    for i in range(loop_range):\n",
    "        if isinstance(input_list[index][i], list):\n",
    "            for j in range(len(input_list[index][i])):\n",
    "                iterate_list(current_loop + 1, max_loop, input_list, current_list + [input_list[index][i][j]], result)\n",
    "        elif input_list[index][i] == None:\n",
    "            iterate_list(current_loop + 1, max_loop, input_list, current_list, result)\n",
    "        else:\n",
    "            iterate_list(current_loop + 1, max_loop, input_list, current_list + [input_list[index][i]], result)\n",
    "\n",
    "    return result"
   ]
  },
  {
   "cell_type": "code",
   "execution_count": 4,
   "metadata": {},
   "outputs": [
    {
     "name": "stdout",
     "output_type": "stream",
     "text": [
      "[['NMB', 1], ['NMB', 1, 1], ['NMB', 1, 2], ['NMB', 1, 3], ['NMB', 1, 1], ['NMB', 2], ['NMB', 2, 1], ['NMB', 2, 2], ['NMB', 2, 3], ['NMB', 2, 1], ['NMB', 3], ['NMB', 3, 1], ['NMB', 3, 2], ['NMB', 3, 3], ['NMB', 3, 1]]\n"
     ]
    }
   ],
   "source": [
    "input_list = [[\"NMB\"],[1,2,3],[None,[1,2,3],1]]\n",
    "result_list = iterate_list(1, 3, input_list)\n",
    "print (result_list)"
   ]
  },
  {
   "cell_type": "code",
   "execution_count": 5,
   "metadata": {},
   "outputs": [],
   "source": [
    "def iterate_list_with_insert(current_loop, max_loop, input_list, insert_list, insert_index, current_list = [], result = None, insert_index_counter = 0):\n",
    "#* data structure:\n",
    "#* input_list = [[num, None, list, ...], [...], ...]\n",
    "#* insert_list = [[num, None, list, ...], [...], ...]\n",
    "#* insert_index = [index, index, ...]\n",
    "\n",
    "#* for insert_index, input_list[insert_index[i]] and insert_list[i] should have the same length\n",
    "\n",
    "    if result == None:\n",
    "        result = []\n",
    "\n",
    "    if current_loop > max_loop:\n",
    "        result.append(current_list)\n",
    "        return\n",
    "\n",
    "    index = len(input_list) - (max_loop - current_loop + 1)\n",
    "    assert index >= 0, \\\n",
    "        'length of input_list and the number of loops are not compatible!'\n",
    "\n",
    "    loop_range = len(input_list[index])\n",
    "\n",
    "    for i in range(loop_range):\n",
    "        if index == insert_index[insert_index_counter]:\n",
    "\n",
    "            #* in this case all insert_index_counter should plus 1\n",
    "            #* then classify with the type for element insert_list[insert_index_counter][j]\n",
    "            #* insert_list[insert_index_counter][j] or insert_list[insert_index_counter][j][k] should be added after input_list[index][i]\n",
    "\n",
    "            assert len(input_list[insert_index[insert_index_counter]]) == len(insert_list[insert_index_counter]), \\\n",
    "                \"the dimesion of input_list[insert_index[insert_index_counter]] and insert_list[insert_index_counter] should be the same!\"\n",
    "            \n",
    "            if isinstance(input_list[index][i], list):\n",
    "                for j in range(len(input_list[index][i])):\n",
    "                    if isinstance(insert_list[insert_index_counter][i], list):\n",
    "                        for k in range(len(insert_list[insert_index_counter][i])):\n",
    "                            iterate_list_with_insert(current_loop + 1, max_loop, input_list, insert_list, insert_index, current_list + [input_list[index][i][j]] + [insert_list[insert_index_counter][i][k]], result, insert_index_counter + 1)\n",
    "                    elif insert_list[insert_index_counter][i] == None:\n",
    "                        iterate_list_with_insert(current_loop + 1, max_loop, input_list, insert_list, insert_index, current_list + [input_list[index][i][j]], result, insert_index_counter + 1)\n",
    "                    else:\n",
    "                        iterate_list_with_insert(current_loop + 1, max_loop, input_list, insert_list, insert_index, current_list + [input_list[index][i][j]] + [insert_list[insert_index_counter][i]], result, insert_index_counter + 1)\n",
    "                    \n",
    "            elif input_list[index][i] == None:\n",
    "                if isinstance(insert_list[insert_index_counter][i], list):\n",
    "                    for k in range(len(insert_list[insert_index_counter][i])):\n",
    "                        iterate_list_with_insert(current_loop + 1, max_loop, input_list, insert_list, insert_index, current_list + [insert_list[insert_index_counter][i][k]], result, insert_index_counter + 1)\n",
    "                elif insert_list[insert_index_counter][i] == None:\n",
    "                    iterate_list_with_insert(current_loop + 1, max_loop, input_list, insert_list, insert_index, current_list, result, insert_index_counter + 1)\n",
    "                else:\n",
    "                    iterate_list_with_insert(current_loop + 1, max_loop, input_list, insert_list, insert_index, current_list + [insert_list[insert_index_counter][i]], result, insert_index_counter + 1)\n",
    "            else:\n",
    "                if isinstance(insert_list[insert_index_counter][i], list):\n",
    "                    for k in range(len(insert_list[insert_index_counter][i])):\n",
    "                        iterate_list_with_insert(current_loop + 1, max_loop, input_list, insert_list, insert_index, current_list + [input_list[index][i]] + [insert_list[insert_index_counter][i][k]], result, insert_index_counter + 1)\n",
    "                elif insert_list[insert_index_counter][i] == None:\n",
    "                    iterate_list_with_insert(current_loop + 1, max_loop, input_list, insert_list, insert_index, current_list + [input_list[index][i]], result, insert_index_counter + 1)\n",
    "                else:\n",
    "                    iterate_list_with_insert(current_loop + 1, max_loop, input_list, insert_list, insert_index, current_list + [input_list[index][i]] + [insert_list[insert_index_counter][i]], result, insert_index_counter + 1)\n",
    "\n",
    "        else:\n",
    "            #* in this case insert_index_counter should not change\n",
    "\n",
    "            if isinstance(input_list[index][i], list):\n",
    "                for j in range(len(input_list[index][i])):\n",
    "                    iterate_list_with_insert(current_loop + 1, max_loop, input_list, insert_list, insert_index, current_list + [input_list[index][i][j]], result, insert_index_counter)\n",
    "            elif input_list[index][i] == None:\n",
    "                iterate_list_with_insert(current_loop + 1, max_loop, input_list, insert_list, insert_index, current_list, result, insert_index_counter)\n",
    "            else:\n",
    "                iterate_list_with_insert(current_loop + 1, max_loop, input_list, insert_list, insert_index, current_list + [input_list[index][i]], result, insert_index_counter)\n",
    "\n",
    "    return result"
   ]
  },
  {
   "cell_type": "code",
   "execution_count": 8,
   "metadata": {},
   "outputs": [
    {
     "name": "stdout",
     "output_type": "stream",
     "text": [
      "['input11', 'input21', 'insert21']\n",
      "['input11', 'input22', 'insert22']\n",
      "['input11', 'input231', 'insert231']\n",
      "['input11', 'input231', 'insert232']\n",
      "['input11', 'input232', 'insert231']\n",
      "['input11', 'input232', 'insert232']\n",
      "['input12', 'insert12', 'input21', 'insert21']\n",
      "['input12', 'insert12', 'input22', 'insert22']\n",
      "['input12', 'insert12', 'input231', 'insert231']\n",
      "['input12', 'insert12', 'input231', 'insert232']\n",
      "['input12', 'insert12', 'input232', 'insert231']\n",
      "['input12', 'insert12', 'input232', 'insert232']\n",
      "['insert131', 'input21', 'insert21']\n",
      "['insert131', 'input22', 'insert22']\n",
      "['insert131', 'input231', 'insert231']\n",
      "['insert131', 'input231', 'insert232']\n",
      "['insert131', 'input232', 'insert231']\n",
      "['insert131', 'input232', 'insert232']\n",
      "['insert132', 'input21', 'insert21']\n",
      "['insert132', 'input22', 'insert22']\n",
      "['insert132', 'input231', 'insert231']\n",
      "['insert132', 'input231', 'insert232']\n",
      "['insert132', 'input232', 'insert231']\n",
      "['insert132', 'input232', 'insert232']\n",
      "24\n"
     ]
    }
   ],
   "source": [
    "input_list = [['input11' , 'input12', None], ['input21', 'input22', ['input231', 'input232']]]\n",
    "insert_list = [[None, 'insert12', ['insert131', 'insert132']], ['insert21', 'insert22', ['insert231', 'insert232']]]\n",
    "insert_index = [0, 1]\n",
    "\n",
    "result_list = iterate_list_with_insert(1, 2, input_list, insert_list, insert_index)\n",
    "for i in range(len(result_list)):\n",
    "    print (result_list[i])\n",
    "print (len(result_list))"
   ]
  }
 ],
 "metadata": {
  "kernelspec": {
   "display_name": "deeplearning",
   "language": "python",
   "name": "python3"
  },
  "language_info": {
   "codemirror_mode": {
    "name": "ipython",
    "version": 3
   },
   "file_extension": ".py",
   "mimetype": "text/x-python",
   "name": "python",
   "nbconvert_exporter": "python",
   "pygments_lexer": "ipython3",
   "version": "3.12.0"
  }
 },
 "nbformat": 4,
 "nbformat_minor": 2
}
